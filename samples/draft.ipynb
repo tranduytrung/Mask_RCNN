{
 "cells": [
  {
   "cell_type": "code",
   "execution_count": 8,
   "metadata": {},
   "outputs": [],
   "source": [
    "import numpy as np"
   ]
  },
  {
   "cell_type": "code",
   "execution_count": 11,
   "metadata": {},
   "outputs": [
    {
     "data": {
      "text/plain": [
       "array([[[0.4453375 , 0.49780391, 0.47953443],\n",
       "        [0.25242238, 0.5842634 , 0.98606858],\n",
       "        [0.78171927, 0.48431697, 0.71041594]],\n",
       "\n",
       "       [[0.1964545 , 0.47113945, 0.81746449],\n",
       "        [0.06377593, 0.28667229, 0.03295855],\n",
       "        [0.26578013, 0.99581821, 0.7793135 ]],\n",
       "\n",
       "       [[0.07993205, 0.5118003 , 0.21521087],\n",
       "        [0.94306898, 0.18927239, 0.78727796],\n",
       "        [0.75923071, 0.70091404, 0.15812678]]])"
      ]
     },
     "execution_count": 11,
     "metadata": {},
     "output_type": "execute_result"
    }
   ],
   "source": [
    "np.random.uniform(size=(3,3,3))"
   ]
  }
 ],
 "metadata": {
  "kernelspec": {
   "display_name": "Python 3",
   "language": "python",
   "name": "python3"
  },
  "language_info": {
   "codemirror_mode": {
    "name": "ipython",
    "version": 3
   },
   "file_extension": ".py",
   "mimetype": "text/x-python",
   "name": "python",
   "nbconvert_exporter": "python",
   "pygments_lexer": "ipython3",
   "version": "3.6.8"
  }
 },
 "nbformat": 4,
 "nbformat_minor": 2
}
